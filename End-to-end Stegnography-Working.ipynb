{
 "cells": [
  {
   
   ]
  },
  {
   "cell_type": "code",
   "execution_count": 1,
   "metadata": {
    "ExecuteTime": {
     "end_time": "2020-01-26T19:26:26.477196Z",
     "start_time": "2020-01-26T19:26:25.497210Z"
    }
   },
   "outputs": [],
   "source": [
    "from IPython import display\n",
    "import numpy as np\n",
    "import tensorflow as tf\n",
    "import pickle\n",
    "\n",
    "import cv2\n",
    "import matplotlib.pyplot as plt\n",
    "%matplotlib inline\n",
    "\n",
    "%load_ext autoreload\n",
    "%autoreload 2"
   ]
  },
  {
   "cell_type": "code",
   "execution_count": 2,
   "metadata": {
    "ExecuteTime": {
     "end_time": "2020-01-26T19:26:26.572897Z",
     "start_time": "2020-01-26T19:26:26.516975Z"
    }
   },
   "outputs": [],
   "source": [
    "# import tensorflow as tf\n",
    "# # For process to not allocate entire GPU memory\n",
    "\n",
    "# physical_devices = tf.config.experimental.list_physical_devices('GPU')\n",
    "# assert len(physical_devices) > 0, \"Not enough GPU hardware devices available\"\n",
    "# tf.config.experimental.set_memory_growth(physical_devices[0], True)"
   ]
  },
  {
   "cell_type": "markdown",
   "metadata": {},
   "source": [
    "#### Setting up Data Pipeline"
   ]
  },
  {
   "cell_type": "code",
   "execution_count": 3,
   "metadata": {
    "ExecuteTime": {
     "end_time": "2020-01-26T19:26:27.170034Z",
     "start_time": "2020-01-26T19:26:26.607686Z"
    }
   },
   "outputs": [],
   "source": [
    "(x, y), (x_test, y_test) = tf.keras.datasets.cifar10.load_data()"
   ]
  },
  {
   "cell_type": "code",
   "execution_count": 4,
   "metadata": {
    "ExecuteTime": {
     "end_time": "2020-01-26T19:26:27.323474Z",
     "start_time": "2020-01-26T19:26:27.214395Z"
    }
   },
   "outputs": [],
   "source": [
    "x = x.astype(np.float32)\n",
    "x_test = x_test.astype(np.float32)"
   ]
  },
  {
   "cell_type": "markdown",
   "metadata": {},
   "source": [
    "#### Setting up tf.keras Model"
   ]
  },
  {
   "cell_type": "code",
   "execution_count": 5,
   "metadata": {
    "ExecuteTime": {
     "end_time": "2020-01-26T19:26:27.986236Z",
     "start_time": "2020-01-26T19:26:27.969034Z"
    }
   },
   "outputs": [],
   "source": [
    "from tensorflow.keras import Model\n",
    "from tensorflow.keras.layers import Input"
   ]
  },
  {
   "cell_type": "code",
   "execution_count": 6,
   "metadata": {
    "ExecuteTime": {
     "end_time": "2020-01-26T19:26:28.157741Z",
     "start_time": "2020-01-26T19:26:28.139813Z"
    }
   },
   "outputs": [
    {
     "data": {
      "text/plain": [
       "'float32'"
      ]
     },
     "execution_count": 6,
     "metadata": {},
     "output_type": "execute_result"
    }
   ],
   "source": [
    "tf.keras.backend.set_floatx('float32')\n",
    "tf.keras.backend.floatx()"
   ]
  },
  {
   "cell_type": "code",
   "execution_count": 7,
   "metadata": {
    "ExecuteTime": {
     "end_time": "2020-01-26T19:26:28.387095Z",
     "start_time": "2020-01-26T19:26:28.370379Z"
    }
   },
   "outputs": [],
   "source": [
    "from encoder import EncoderNetwork\n",
    "from decoder import DecoderNetwork"
   ]
  },
  {
   "cell_type": "code",
   "execution_count": 8,
   "metadata": {
    "ExecuteTime": {
     "end_time": "2020-01-26T19:26:28.526796Z",
     "start_time": "2020-01-26T19:26:28.510894Z"
    }
   },
   "outputs": [],
   "source": [
    "carrier_image_shape = (32, 32, 3)\n",
    "payload_image_shape = (32, 32, 1)\n",
    "\n",
    "encoder_network = EncoderNetwork(carrier_shape=carrier_image_shape,\n",
    "                                 payload_shape=payload_image_shape)\n",
    "decoder_network = DecoderNetwork(target_image_shape=payload_image_shape)"
   ]
  },
  {
   "cell_type": "code",
   "execution_count": 9,
   "metadata": {
    "ExecuteTime": {
     "end_time": "2020-01-26T19:26:28.646219Z",
     "start_time": "2020-01-26T19:26:28.627667Z"
    }
   },
   "outputs": [],
   "source": [
    "input_carrier = Input(shape=carrier_image_shape, name='input_carrier')\n",
    "input_payload = Input(shape=payload_image_shape, name='input_payload')"
   ]
  },
  {
   "cell_type": "code",
   "execution_count": 10,
   "metadata": {
    "ExecuteTime": {
     "end_time": "2020-01-26T19:26:29.426929Z",
     "start_time": "2020-01-26T19:26:28.811179Z"
    }
   },
   "outputs": [],
   "source": [
    "encoded_output = encoder_network.get_network(input_carrier, input_payload)\n",
    "decoded_output = decoder_network.get_network(encoded_output)"
   ]
  },
  {
   "cell_type": "code",
   "execution_count": 11,
   "metadata": {
    "ExecuteTime": {
     "end_time": "2020-01-26T19:26:29.552851Z",
     "start_time": "2020-01-26T19:26:29.533005Z"
    }
   },
   "outputs": [],
   "source": [
    "steganography_model = Model(inputs=[input_carrier, input_payload],\n",
    "                            outputs=[encoded_output, decoded_output])"
   ]
  },
  {
   "cell_type": "code",
   "execution_count": 12,
   "metadata": {
    "ExecuteTime": {
     "end_time": "2020-01-26T19:27:41.713221Z",
     "start_time": "2020-01-26T19:27:41.505095Z"
    }
   },
   "outputs": [
    {
     "name": "stdout",
     "output_type": "stream",
     "text": [
      "You must install pydot (`pip install pydot`) and install graphviz (see instructions at https://graphviz.gitlab.io/download/) for plot_model to work.\n"
     ]
    }
   ],
   "source": [
    "from tensorflow.keras.utils import plot_model\n",
    "plot_model(steganography_model, show_shapes=True)"
   ]
  },
  {
   "cell_type": "code",
   "execution_count": 13,
   "metadata": {
    "ExecuteTime": {
     "end_time": "2020-01-26T19:27:43.963955Z",
     "start_time": "2020-01-26T19:27:43.939535Z"
    }
   },
   "outputs": [
    {
     "name": "stdout",
     "output_type": "stream",
     "text": [
      "Model: \"model\"\n",
      "__________________________________________________________________________________________________\n",
      " Layer (type)                   Output Shape         Param #     Connected to                     \n",
      "==================================================================================================\n",
      " input_carrier (InputLayer)     [(None, 32, 32, 3)]  0           []                               \n",
      "                                                                                                  \n",
      " input_payload (InputLayer)     [(None, 32, 32, 1)]  0           []                               \n",
      "                                                                                                  \n",
      " conv2d_7 (Conv2D)              (None, 32, 32, 16)   448         ['input_carrier[0][0]']          \n",
      "                                                                                                  \n",
      " conv2d (Conv2D)                (None, 32, 32, 16)   160         ['input_payload[0][0]']          \n",
      "                                                                                                  \n",
      " concatenate (Concatenate)      (None, 32, 32, 32)   0           ['conv2d_7[0][0]',               \n",
      "                                                                  'conv2d[0][0]']                 \n",
      "                                                                                                  \n",
      " conv2d_8 (Conv2D)              (None, 32, 32, 16)   4624        ['concatenate[0][0]']            \n",
      "                                                                                                  \n",
      " conv2d_1 (Conv2D)              (None, 32, 32, 16)   2320        ['conv2d[0][0]']                 \n",
      "                                                                                                  \n",
      " conv2d_9 (Conv2D)              (None, 32, 32, 16)   2320        ['conv2d_8[0][0]']               \n",
      "                                                                                                  \n",
      " conv2d_2 (Conv2D)              (None, 32, 32, 16)   2320        ['conv2d_1[0][0]']               \n",
      "                                                                                                  \n",
      " concatenate_1 (Concatenate)    (None, 32, 32, 32)   0           ['conv2d_9[0][0]',               \n",
      "                                                                  'conv2d_2[0][0]']               \n",
      "                                                                                                  \n",
      " conv2d_10 (Conv2D)             (None, 32, 32, 16)   4624        ['concatenate_1[0][0]']          \n",
      "                                                                                                  \n",
      " conv2d_3 (Conv2D)              (None, 32, 32, 16)   2320        ['conv2d_2[0][0]']               \n",
      "                                                                                                  \n",
      " conv2d_11 (Conv2D)             (None, 32, 32, 16)   2320        ['conv2d_10[0][0]']              \n",
      "                                                                                                  \n",
      " conv2d_4 (Conv2D)              (None, 32, 32, 16)   2320        ['conv2d_3[0][0]']               \n",
      "                                                                                                  \n",
      " concatenate_2 (Concatenate)    (None, 32, 32, 32)   0           ['conv2d_11[0][0]',              \n",
      "                                                                  'conv2d_4[0][0]']               \n",
      "                                                                                                  \n",
      " conv2d_12 (Conv2D)             (None, 32, 32, 16)   4624        ['concatenate_2[0][0]']          \n",
      "                                                                                                  \n",
      " conv2d_5 (Conv2D)              (None, 32, 32, 16)   2320        ['conv2d_4[0][0]']               \n",
      "                                                                                                  \n",
      " conv2d_13 (Conv2D)             (None, 32, 32, 16)   2320        ['conv2d_12[0][0]']              \n",
      "                                                                                                  \n",
      " conv2d_6 (Conv2D)              (None, 32, 32, 16)   2320        ['conv2d_5[0][0]']               \n",
      "                                                                                                  \n",
      " concatenate_3 (Concatenate)    (None, 32, 32, 32)   0           ['conv2d_13[0][0]',              \n",
      "                                                                  'conv2d_6[0][0]']               \n",
      "                                                                                                  \n",
      " conv2d_14 (Conv2D)             (None, 32, 32, 16)   528         ['concatenate_3[0][0]']          \n",
      "                                                                                                  \n",
      " conv2d_15 (Conv2D)             (None, 32, 32, 8)    136         ['conv2d_14[0][0]']              \n",
      "                                                                                                  \n",
      " encoded_output (Conv2D)        (None, 32, 32, 3)    27          ['conv2d_15[0][0]']              \n",
      "                                                                                                  \n",
      " conv2d_16 (Conv2D)             (None, 32, 32, 16)   448         ['encoded_output[0][0]']         \n",
      "                                                                                                  \n",
      " conv2d_17 (Conv2D)             (None, 32, 32, 16)   2320        ['conv2d_16[0][0]']              \n",
      "                                                                                                  \n",
      " conv2d_18 (Conv2D)             (None, 32, 32, 8)    1160        ['conv2d_17[0][0]']              \n",
      "                                                                                                  \n",
      " conv2d_19 (Conv2D)             (None, 32, 32, 8)    584         ['conv2d_18[0][0]']              \n",
      "                                                                                                  \n",
      " conv2d_20 (Conv2D)             (None, 32, 32, 3)    219         ['conv2d_19[0][0]']              \n",
      "                                                                                                  \n",
      " conv2d_21 (Conv2D)             (None, 32, 32, 3)    84          ['conv2d_20[0][0]']              \n",
      "                                                                                                  \n",
      " decoded_output (Conv2D)        (None, 32, 32, 1)    4           ['conv2d_21[0][0]']              \n",
      "                                                                                                  \n",
      "==================================================================================================\n",
      "Total params: 40,870\n",
      "Trainable params: 40,870\n",
      "Non-trainable params: 0\n",
      "__________________________________________________________________________________________________\n"
     ]
    }
   ],
   "source": [
    "steganography_model.summary()"
   ]
  },
  {
   "cell_type": "code",
   "execution_count": 14,
   "metadata": {
    "ExecuteTime": {
     "end_time": "2020-01-26T19:27:48.699197Z",
     "start_time": "2020-01-26T19:27:48.673035Z"
    }
   },
   "outputs": [],
   "source": [
    "# Defining Loss Function\n",
    "\n",
    "\n",
    "@tf.function\n",
    "def loss_function(payload, host, encoder_output, decoder_output):\n",
    "\n",
    "    loss = tf.math.reduce_mean(\n",
    "        tf.math.squared_difference(payload, decoder_output) +\n",
    "        tf.math.squared_difference(host, encoder_output))\n",
    "\n",
    "    return loss"
   ]
  },
  {
   "cell_type": "code",
   "execution_count": 15,
   "metadata": {
    "ExecuteTime": {
     "end_time": "2020-01-26T19:27:49.256646Z",
     "start_time": "2020-01-26T19:27:49.214026Z"
    }
   },
   "outputs": [],
   "source": [
    "optimizer = tf.keras.optimizers.Adam(0.0001)"
   ]
  },
  {
   "cell_type": "code",
   "execution_count": 16,
   "metadata": {
    "ExecuteTime": {
     "end_time": "2020-01-26T19:27:51.677014Z",
     "start_time": "2020-01-26T19:27:51.638841Z"
    }
   },
   "outputs": [],
   "source": [
    "test_loss = tf.keras.metrics.Mean(name='test_loss')\n",
    "train_loss = tf.keras.metrics.Mean(name='train_loss')\n",
    "\n",
    "\n",
    "@tf.function\n",
    "def train_step(payload, host):\n",
    "    with tf.GradientTape() as tape:\n",
    "        encoded_host, decoded_payload = steganography_model([host, payload])\n",
    "        loss = loss_function(payload, host, encoded_host, decoded_payload)\n",
    "        train_loss(loss)\n",
    "    gradients = tape.gradient(loss, steganography_model.trainable_variables)\n",
    "    optimizer.apply_gradients(\n",
    "        zip(gradients, steganography_model.trainable_variables))\n",
    "\n",
    "    train_host_psnr = tf.reduce_mean(tf.image.psnr(host, encoded_host, 1))\n",
    "    train_payload_psnr = tf.reduce_mean(\n",
    "        tf.image.psnr(payload, decoded_payload, 1))\n",
    "\n",
    "    train_host_ssim = tf.reduce_mean(tf.image.ssim(host, encoded_host, 1))\n",
    "    train_payload_ssim = tf.reduce_mean(\n",
    "        tf.image.ssim(payload, decoded_payload, 1))\n",
    "\n",
    "    return train_host_psnr, train_payload_psnr, train_host_ssim, train_payload_ssim\n",
    "\n",
    "\n",
    "@tf.function\n",
    "def test_step(payload, host):\n",
    "    encoded_host, decoded_payload = steganography_model([host, payload])\n",
    "    t_loss = loss_function(payload, host, encoded_host, decoded_payload)\n",
    "    test_loss(t_loss)\n",
    "\n",
    "    test_host_psnr = tf.reduce_mean(tf.image.psnr(host, encoded_host, 1))\n",
    "    test_payload_psnr = tf.reduce_mean(\n",
    "        tf.image.psnr(payload, decoded_payload, 1))\n",
    "\n",
    "    test_host_ssim = tf.reduce_mean(tf.image.ssim(host, encoded_host, 1))\n",
    "    test_payload_ssim = tf.reduce_mean(\n",
    "        tf.image.ssim(payload, decoded_payload, 1))\n",
    "\n",
    "    return test_host_psnr, test_payload_psnr, test_host_ssim, test_payload_ssim"
   ]
  },
  {
   "cell_type": "code",
   "execution_count": 17,
   "metadata": {
    "ExecuteTime": {
     "start_time": "2020-01-26T20:09:51.417Z"
    }
   },
   "outputs": [
    {
     "name": "stdout",
     "output_type": "stream",
     "text": [
      "elapsed: 72.286674\n",
      "Epoch 1, Train Loss: 0.20467086136341095, Test Loss: 0.16554178297519684, TrainH PSNR: 9.96910572052002, TrainP PSNR: 12.777978897094727, TestH PSNR: 10.027681350708008, TestP PSNR: 12.631250381469727, TrainH SSIM: 0.08096356689929962, TrainP SSIM: 0.3142671585083008, TestH SSIM: 0.08940735459327698, TestP SSIM: 0.31912827491760254\n",
      "Training Finished.\n"
     ]
    }
   ],
   "source": [
    "import time\n",
    "EPOCHS = 250 - 249\n",
    "SUMMARY_DIR = './summary'\n",
    "\n",
    "for epoch in range(EPOCHS):\n",
    "    start = time.time()\n",
    "\n",
    "    # for when payload is rgb\n",
    "    train_size = x.shape[0] - 45000\n",
    "    test_size = x_test.shape[0] - 8000\n",
    "\n",
    "    payload_train_idx = np.arange(train_size)\n",
    "    np.random.shuffle(payload_train_idx)\n",
    "    payload_train = x[payload_train_idx]\n",
    "    if payload_image_shape[-1] == 1:\n",
    "        # for when payload is grayscale\n",
    "        payload_train = np.expand_dims(np.mean(payload_train, axis=-1),\n",
    "                                       axis=-1)\n",
    "\n",
    "    host_train_idx = np.arange(train_size)\n",
    "    np.random.shuffle(host_train_idx)\n",
    "    host_train = x[host_train_idx]\n",
    "\n",
    "    \n",
    "    payload_test_idx = np.arange(test_size)\n",
    "    np.random.shuffle(payload_test_idx)\n",
    "    payload_test = x_test[payload_test_idx]\n",
    "    if payload_image_shape[-1] == 1:\n",
    "        # for when payload is grayscale\n",
    "        # for when payload is grayscale\n",
    "        payload_test = np.expand_dims(np.mean(payload_test, axis=-1), axis=-1)\n",
    "\n",
    "    host_test_idx = np.arange(test_size)\n",
    "    np.random.shuffle(host_test_idx)\n",
    "    host_test = x_test[host_test_idx]\n",
    "\n",
    "    # Normalization function\n",
    "\n",
    "\n",
    "    def deprecated_normalize(payload, host):\n",
    "        payload = tf.image.per_image_standardization(payload)\n",
    "        host = tf.image.per_image_standardization(host)\n",
    "        return payload, host\n",
    "\n",
    "    def normalize(payload, host):\n",
    "        payload = tf.divide(\n",
    "            tf.math.subtract(payload, tf.reduce_min(payload)),\n",
    "            tf.math.subtract(tf.reduce_max(payload), tf.reduce_min(payload)))\n",
    "        host = tf.divide(\n",
    "            tf.math.subtract(host, tf.reduce_min(host)),\n",
    "            tf.math.subtract(tf.reduce_max(host), tf.reduce_min(host)))\n",
    "        return payload, host\n",
    "\n",
    "    # Instantiate the Dataset class\n",
    "    train_dataset = tf.data.Dataset.from_tensor_slices(\n",
    "        (payload_train, host_train))\n",
    "    # Adding shuffle, normalization and batching operations to the dataset object\n",
    "    train_dataset = train_dataset.map(normalize).shuffle(5000).batch(\n",
    "        256, drop_remainder=True)\n",
    "\n",
    "    # Instantiate the test Dataset class\n",
    "    test_dataset = tf.data.Dataset.from_tensor_slices(\n",
    "        (payload_test, host_test))\n",
    "    test_dataset = (test_dataset.map(normalize).batch(\n",
    "        128, drop_remainder=True)).shuffle(500)\n",
    "\n",
    "    for payload, host in train_dataset:\n",
    "        train_host_psnr, train_payload_psnr, train_host_ssim, train_payload_ssim = train_step(\n",
    "            payload, host)\n",
    "\n",
    "    for payload, host in test_dataset:\n",
    "        test_host_psnr, test_payload_psnr, test_host_ssim, test_payload_ssim = test_step(\n",
    "            payload, host)\n",
    "\n",
    "    elapsed = time.time() - start\n",
    "    print('elapsed: %f' % elapsed)\n",
    "\n",
    "    template = 'Epoch {}, Train Loss: {}, Test Loss: {}, TrainH PSNR: {}, TrainP PSNR: {}, TestH PSNR: {}, TestP PSNR: {}, TrainH SSIM: {}, TrainP SSIM: {}, TestH SSIM: {}, TestP SSIM: {}'\n",
    "    print(\n",
    "        template.format(epoch + 1, train_loss.result(), test_loss.result(),\n",
    "                        train_host_psnr, train_payload_psnr, test_host_psnr,\n",
    "                        test_payload_psnr, train_host_ssim, train_payload_ssim,\n",
    "                        test_host_ssim, test_payload_ssim))\n",
    "\n",
    "    # Reset the metrics for the next epoch\n",
    "    test_loss.reset_states()\n",
    "\n",
    "print('Training Finished.')"
   ]
  },
  {
   "cell_type": "code",
   "execution_count": 18,
   "metadata": {
    "ExecuteTime": {
     "end_time": "2020-01-26T20:05:42.691812Z",
     "start_time": "2020-01-26T20:05:40.473632Z"
    }
   },
   "outputs": [
    {
     "name": "stdout",
     "output_type": "stream",
     "text": [
      "Test Loss:  tf.Tensor(0.16623394, shape=(), dtype=float32) PSNR-H:  tf.Tensor(10.164278, shape=(), dtype=float32) PSNR-P:  tf.Tensor(12.66022, shape=(), dtype=float32)\n"
     ]
    }
   ],
   "source": [
    "payload_test = x_test[np.random.choice(np.arange(x_test.shape[0] - 8000),\n",
    "                                       size=x_test.shape[0] - 8000)]\n",
    "if payload_image_shape[-1] == 1:\n",
    "    # for when payload is grayscale\n",
    "    # for when payload is grayscale\n",
    "    payload_test = np.expand_dims(np.mean(payload_test, axis=-1), axis=-1)\n",
    "\n",
    "host_test = x_test[np.random.choice(np.arange(x_test.shape[0] - 8000),\n",
    "                                    size=x_test.shape[0] - 8000)]\n",
    "# Instantiate the test Dataset class\n",
    "test_dataset = tf.data.Dataset.from_tensor_slices((payload_test, host_test))\n",
    "test_dataset = (test_dataset.map(normalize).batch(\n",
    "    256, drop_remainder=True)).shuffle(500)\n",
    "\n",
    "for payload, host in test_dataset:\n",
    "    test_host_psnr, test_payload_psnr, test_host_ssim, test_payload_ssim = test_step(\n",
    "        payload, host)\n",
    "\n",
    "print(\"Test Loss: \", test_loss.result(), \"PSNR-H: \", test_host_psnr,\n",
    "      \"PSNR-P: \", test_payload_psnr)"
   ]
  },
  {
   "cell_type": "code",
   "execution_count": 19,
   "metadata": {
    "ExecuteTime": {
     "end_time": "2020-01-26T20:05:49.286869Z",
     "start_time": "2020-01-26T20:05:49.264190Z"
    }
   },
   "outputs": [],
   "source": [
    "def test_normalize(payload, host):\n",
    "    normalized_payload = tf.divide(\n",
    "        tf.math.subtract(payload, tf.reduce_min(payload)),\n",
    "        tf.math.subtract(tf.reduce_max(payload), tf.reduce_min(payload)))\n",
    "    normalized_host = tf.divide(\n",
    "        tf.math.subtract(host, tf.reduce_min(host)),\n",
    "        tf.math.subtract(tf.reduce_max(host), tf.reduce_min(host)))\n",
    "    return normalized_payload, normalized_host, payload, host"
   ]
  },
  {
   "cell_type": "markdown",
   "metadata": {},
   "source": [
    "## Inference"
   ]
  },
  {
   "cell_type": "code",
   "execution_count": 20,
   "metadata": {
    "ExecuteTime": {
     "end_time": "2020-01-26T20:05:50.172000Z",
     "start_time": "2020-01-26T20:05:50.147919Z"
    }
   },
   "outputs": [],
   "source": [
    "def normed_to_image(normed_image, min_, max_):\n",
    "    return (normed_image * (max_ - min_)) + min_"
   ]
  },
  {
   "cell_type": "code",
   "execution_count": 21,
   "metadata": {
    "ExecuteTime": {
     "end_time": "2020-01-26T20:09:06.651241Z",
     "start_time": "2020-01-26T20:09:06.428222Z"
    }
   },
   "outputs": [
    {
     "data": {
      "text/plain": [
       "<matplotlib.image.AxesImage at 0x1ca25d80f70>"
      ]
     },
     "execution_count": 21,
     "metadata": {},
     "output_type": "execute_result"
    },
    {
     "data": {
      "image/png": "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\n",
      "text/plain": [
       "<Figure size 432x288 with 2 Axes>"
      ]
     },
     "metadata": {
      "needs_background": "light"
     },
     "output_type": "display_data"
    }
   ],
   "source": [
    "example_ids = np.arange(len(host_test))[:100]\n",
    "example_id = np.random.choice(example_ids)\n",
    "\n",
    "# showing host\n",
    "fig, axs = plt.subplots(ncols=2)\n",
    "\n",
    "host_example = host_test.astype(int)[example_id]\n",
    "payload_example = payload_test.astype(int)[example_id]\n",
    "\n",
    "payload_example = np.concatenate(\n",
    "    (payload_example, payload_example, payload_example), axis=-1)\n",
    "axs[0].imshow(host_example)\n",
    "axs[1].imshow(payload_example, cmap='gray')"
   ]
  },
  {
   "cell_type": "code",
   "execution_count": 22,
   "metadata": {
    "ExecuteTime": {
     "end_time": "2020-01-26T20:09:08.345219Z",
     "start_time": "2020-01-26T20:09:08.109838Z"
    }
   },
   "outputs": [
    {
     "name": "stderr",
     "output_type": "stream",
     "text": [
      "Clipping input data to the valid range for imshow with RGB data ([0..1] for floats or [0..255] for integers).\n",
      "Clipping input data to the valid range for imshow with RGB data ([0..1] for floats or [0..255] for integers).\n"
     ]
    },
    {
     "data": {
      "text/plain": [
       "<matplotlib.image.AxesImage at 0x1ca2734fd60>"
      ]
     },
     "execution_count": 22,
     "metadata": {},
     "output_type": "execute_result"
    },
    {
     "data": {
      "image/png": "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\n",
      "text/plain": [
       "<Figure size 432x288 with 2 Axes>"
      ]
     },
     "metadata": {
      "needs_background": "light"
     },
     "output_type": "display_data"
    }
   ],
   "source": [
    "# showing host\n",
    "fig, axs = plt.subplots(ncols=2)\n",
    "\n",
    "inference_dataset = tf.data.Dataset.from_tensor_slices(\n",
    "    (payload_test[example_ids],\n",
    "     host_test[example_ids])).map(test_normalize).batch(len(example_ids))\n",
    "for norm_payload, norm_host, payload, host in inference_dataset:\n",
    "    encoded_host, decoded_payload = steganography_model(\n",
    "        [norm_host, norm_payload])\n",
    "    host_outputs = encoded_host.numpy()\n",
    "    payload_output = decoded_payload.numpy()\n",
    "\n",
    "    host_outputs = normed_to_image(host_outputs, np.min(host), np.max(host))\n",
    "    payload_output = normed_to_image(payload_output, np.min(payload),\n",
    "                                     np.max(payload))\n",
    "\n",
    "host_output = host_outputs.astype(int)[example_id]\n",
    "payload_output = payload_output.astype(int)[example_id]\n",
    "\n",
    "payload_output = np.concatenate(\n",
    "    (payload_output, payload_output, payload_output), axis=-1)\n",
    "\n",
    "axs[0].imshow(host_output)\n",
    "axs[1].imshow(payload_output)"
   ]
  },
  {
   "cell_type": "code",
   "execution_count": null,
   "metadata": {},
   "outputs": [],
   "source": []
  }
 ],
 "metadata": {
  "kernelspec": {
   "display_name": "Python 3 (ipykernel)",
   "language": "python",
   "name": "python3"
  },
  "language_info": {
   "codemirror_mode": {
    "name": "ipython",
    "version": 3
   },
   "file_extension": ".py",
   "mimetype": "text/x-python",
   "name": "python",
   "nbconvert_exporter": "python",
   "pygments_lexer": "ipython3",
   "version": "3.9.12"
  },
  "latex_envs": {
   "LaTeX_envs_menu_present": true,
   "autoclose": false,
   "autocomplete": true,
   "bibliofile": "biblio.bib",
   "cite_by": "apalike",
   "current_citInitial": 1,
   "eqLabelWithNumbers": true,
   "eqNumInitial": 1,
   "hotkeys": {
    "equation": "Ctrl-E",
    "itemize": "Ctrl-I"
   },
   "labels_anchors": false,
   "latex_user_defs": false,
   "report_style_numbering": false,
   "user_envs_cfg": false
  },
  "toc": {
   "base_numbering": 1,
   "nav_menu": {},
   "number_sections": true,
   "sideBar": true,
   "skip_h1_title": false,
   "title_cell": "Table of Contents",
   "title_sidebar": "Contents",
   "toc_cell": false,
   "toc_position": {},
   "toc_section_display": true,
   "toc_window_display": false
  },
  "varInspector": {
   "cols": {
    "lenName": 16,
    "lenType": 16,
    "lenVar": 40
   },
   "kernels_config": {
    "python": {
     "delete_cmd_postfix": "",
     "delete_cmd_prefix": "del ",
     "library": "var_list.py",
     "varRefreshCmd": "print(var_dic_list())"
    },
    "r": {
     "delete_cmd_postfix": ") ",
     "delete_cmd_prefix": "rm(",
     "library": "var_list.r",
     "varRefreshCmd": "cat(var_dic_list()) "
    }
   },
   "types_to_exclude": [
    "module",
    "function",
    "builtin_function_or_method",
    "instance",
    "_Feature"
   ],
   "window_display": false
  }
 },
 "nbformat": 4,
 "nbformat_minor": 4
}
